{
  "nbformat": 4,
  "nbformat_minor": 0,
  "metadata": {
    "colab": {
      "provenance": [],
      "authorship_tag": "ABX9TyOIR6uxeQvas29wPDIgIrlf",
      "include_colab_link": true
    },
    "kernelspec": {
      "name": "python3",
      "display_name": "Python 3"
    },
    "language_info": {
      "name": "python"
    }
  },
  "cells": [
    {
      "cell_type": "markdown",
      "metadata": {
        "id": "view-in-github",
        "colab_type": "text"
      },
      "source": [
        "<a href=\"https://colab.research.google.com/github/JungJaeseoung/machine-learning/blob/main/custom_vision.ipynb\" target=\"_parent\"><img src=\"https://colab.research.google.com/assets/colab-badge.svg\" alt=\"Open In Colab\"/></a>"
      ]
    },
    {
      "cell_type": "code",
      "execution_count": 26,
      "metadata": {
        "colab": {
          "base_uri": "https://localhost:8080/"
        },
        "id": "JDrmYhze4zMt",
        "outputId": "e5c7efe3-4e64-4ed4-e480-296f195d769b"
      },
      "outputs": [
        {
          "output_type": "stream",
          "name": "stdout",
          "text": [
            "Looking in indexes: https://pypi.org/simple, https://us-python.pkg.dev/colab-wheels/public/simple/\n",
            "Requirement already satisfied: azure-cognitiveservices-vision-customvision in /usr/local/lib/python3.8/dist-packages (3.1.0)\n",
            "Requirement already satisfied: msrest>=0.5.0 in /usr/local/lib/python3.8/dist-packages (from azure-cognitiveservices-vision-customvision) (0.7.1)\n",
            "Requirement already satisfied: azure-common~=1.1 in /usr/local/lib/python3.8/dist-packages (from azure-cognitiveservices-vision-customvision) (1.1.28)\n",
            "Requirement already satisfied: isodate>=0.6.0 in /usr/local/lib/python3.8/dist-packages (from msrest>=0.5.0->azure-cognitiveservices-vision-customvision) (0.6.1)\n",
            "Requirement already satisfied: requests~=2.16 in /usr/local/lib/python3.8/dist-packages (from msrest>=0.5.0->azure-cognitiveservices-vision-customvision) (2.25.1)\n",
            "Requirement already satisfied: azure-core>=1.24.0 in /usr/local/lib/python3.8/dist-packages (from msrest>=0.5.0->azure-cognitiveservices-vision-customvision) (1.26.2)\n",
            "Requirement already satisfied: certifi>=2017.4.17 in /usr/local/lib/python3.8/dist-packages (from msrest>=0.5.0->azure-cognitiveservices-vision-customvision) (2022.12.7)\n",
            "Requirement already satisfied: requests-oauthlib>=0.5.0 in /usr/local/lib/python3.8/dist-packages (from msrest>=0.5.0->azure-cognitiveservices-vision-customvision) (1.3.1)\n",
            "Requirement already satisfied: typing-extensions>=4.0.1 in /usr/local/lib/python3.8/dist-packages (from azure-core>=1.24.0->msrest>=0.5.0->azure-cognitiveservices-vision-customvision) (4.4.0)\n",
            "Requirement already satisfied: six>=1.11.0 in /usr/local/lib/python3.8/dist-packages (from azure-core>=1.24.0->msrest>=0.5.0->azure-cognitiveservices-vision-customvision) (1.15.0)\n",
            "Requirement already satisfied: idna<3,>=2.5 in /usr/local/lib/python3.8/dist-packages (from requests~=2.16->msrest>=0.5.0->azure-cognitiveservices-vision-customvision) (2.10)\n",
            "Requirement already satisfied: urllib3<1.27,>=1.21.1 in /usr/local/lib/python3.8/dist-packages (from requests~=2.16->msrest>=0.5.0->azure-cognitiveservices-vision-customvision) (1.24.3)\n",
            "Requirement already satisfied: chardet<5,>=3.0.2 in /usr/local/lib/python3.8/dist-packages (from requests~=2.16->msrest>=0.5.0->azure-cognitiveservices-vision-customvision) (4.0.0)\n",
            "Requirement already satisfied: oauthlib>=3.0.0 in /usr/local/lib/python3.8/dist-packages (from requests-oauthlib>=0.5.0->msrest>=0.5.0->azure-cognitiveservices-vision-customvision) (3.2.2)\n"
          ]
        }
      ],
      "source": [
        "!pip install azure-cognitiveservices-vision-customvision"
      ]
    },
    {
      "cell_type": "code",
      "source": [
        "from azure.cognitiveservices.vision.customvision.training import CustomVisionTrainingClient\n",
        "from azure.cognitiveservices.vision.customvision.training.models import ImageFileCreateEntry\n",
        "from msrest.authentication import ApiKeyCredentials"
      ],
      "metadata": {
        "id": "JtHw7qqG5Mwe"
      },
      "execution_count": 27,
      "outputs": []
    },
    {
      "cell_type": "code",
      "source": [
        "endpoint = 'https://labuser3customvision.cognitiveservices.azure.com/'\n",
        "training_key = 'd4af018381824300928e1ff054e74a0f'\n",
        "iteration_name = 'classifyModel'"
      ],
      "metadata": {
        "id": "bNBnAuc-5w_1"
      },
      "execution_count": 28,
      "outputs": []
    },
    {
      "cell_type": "code",
      "source": [
        "credentials = ApiKeyCredentials(in_headers={\"Training-key\": training_key})"
      ],
      "metadata": {
        "id": "SoVOHhhX61FZ"
      },
      "execution_count": 29,
      "outputs": []
    },
    {
      "cell_type": "code",
      "source": [
        "trainer = CustomVisionTrainingClient(endpoint, credentials)"
      ],
      "metadata": {
        "id": "qqUjj7i58Cbp"
      },
      "execution_count": 30,
      "outputs": []
    },
    {
      "cell_type": "code",
      "source": [
        "# Create a new project\n",
        "print('Creating a project...')\n",
        "project = trainer.create_project('Labuser 3 Greatwall')\n",
        "print('Project created...')"
      ],
      "metadata": {
        "colab": {
          "base_uri": "https://localhost:8080/"
        },
        "id": "GQus2YGv8zic",
        "outputId": "f2a88d94-9412-47f1-caea-cff8ca3ef418"
      },
      "execution_count": 31,
      "outputs": [
        {
          "output_type": "stream",
          "name": "stdout",
          "text": [
            "Creating a project...\n",
            "Project created...\n"
          ]
        }
      ]
    },
    {
      "cell_type": "code",
      "source": [
        "jjajangmyeon = trainer.create_tag(project.id, 'jjajangmyeon')\n",
        "jjamppong = trainer.create_tag(project.id, 'jjamppong')\n",
        "tangsuyug = trainer.create_tag(project.id, 'tangsuyug')"
      ],
      "metadata": {
        "id": "ZG88SR_E9sYD"
      },
      "execution_count": 32,
      "outputs": []
    },
    {
      "cell_type": "code",
      "source": [
        "import time\n",
        "\n",
        "print('Training.....')\n",
        "\n",
        "iteration = trainer.train_project(project.id)\n",
        "\n",
        "while (iteration.status != 'Completed'):\n",
        "\n",
        "  iteration = trainer.get_iteration(project.id, iteration.id)\n",
        "\n",
        "  print('Training status: ' + iteration.status)\n",
        "  time.sleep(2)\n",
        "\n",
        "print('Done.....')"
      ],
      "metadata": {
        "colab": {
          "base_uri": "https://localhost:8080/"
        },
        "id": "w5IM4ZDX-_Ku",
        "outputId": "776fb8f6-46c1-4ccc-f6e8-031613a1024a"
      },
      "execution_count": 33,
      "outputs": [
        {
          "output_type": "stream",
          "name": "stdout",
          "text": [
            "Training.....\n",
            "Training status: Training\n",
            "Training status: Training\n",
            "Training status: Training\n",
            "Training status: Training\n",
            "Training status: Training\n",
            "Training status: Training\n",
            "Training status: Training\n",
            "Training status: Training\n",
            "Training status: Training\n",
            "Training status: Training\n",
            "Training status: Training\n",
            "Training status: Training\n",
            "Training status: Training\n",
            "Training status: Training\n",
            "Training status: Training\n",
            "Training status: Training\n",
            "Training status: Training\n",
            "Training status: Training\n",
            "Training status: Training\n",
            "Training status: Training\n",
            "Training status: Training\n",
            "Training status: Training\n",
            "Training status: Training\n",
            "Training status: Training\n",
            "Training status: Training\n",
            "Training status: Training\n",
            "Training status: Training\n",
            "Training status: Training\n",
            "Training status: Training\n",
            "Training status: Training\n",
            "Training status: Training\n",
            "Training status: Training\n",
            "Training status: Training\n",
            "Training status: Training\n",
            "Training status: Training\n",
            "Training status: Training\n",
            "Training status: Training\n",
            "Training status: Training\n",
            "Training status: Training\n",
            "Training status: Training\n",
            "Training status: Training\n",
            "Training status: Training\n",
            "Training status: Training\n",
            "Training status: Training\n",
            "Training status: Training\n",
            "Training status: Training\n",
            "Training status: Training\n",
            "Training status: Training\n",
            "Training status: Training\n",
            "Training status: Training\n",
            "Training status: Training\n",
            "Training status: Training\n",
            "Training status: Training\n",
            "Training status: Training\n",
            "Training status: Training\n",
            "Training status: Training\n",
            "Training status: Training\n",
            "Training status: Training\n",
            "Training status: Training\n",
            "Training status: Training\n",
            "Training status: Training\n",
            "Training status: Training\n",
            "Training status: Training\n",
            "Training status: Training\n",
            "Training status: Training\n",
            "Training status: Training\n",
            "Training status: Training\n",
            "Training status: Training\n",
            "Training status: Training\n",
            "Training status: Training\n",
            "Training status: Training\n",
            "Training status: Training\n",
            "Training status: Training\n",
            "Training status: Training\n",
            "Training status: Training\n",
            "Training status: Training\n",
            "Training status: Training\n",
            "Training status: Training\n",
            "Training status: Training\n",
            "Training status: Training\n",
            "Training status: Training\n",
            "Training status: Training\n",
            "Training status: Training\n",
            "Training status: Training\n",
            "Training status: Training\n",
            "Training status: Training\n",
            "Training status: Training\n",
            "Training status: Training\n",
            "Training status: Training\n",
            "Training status: Training\n",
            "Training status: Training\n",
            "Training status: Training\n",
            "Training status: Training\n",
            "Training status: Training\n",
            "Training status: Training\n",
            "Training status: Training\n",
            "Training status: Training\n",
            "Training status: Training\n",
            "Training status: Training\n",
            "Training status: Training\n",
            "Training status: Training\n",
            "Training status: Training\n",
            "Training status: Training\n",
            "Training status: Training\n",
            "Training status: Training\n",
            "Training status: Training\n",
            "Training status: Training\n",
            "Training status: Training\n",
            "Training status: Training\n",
            "Training status: Training\n",
            "Training status: Training\n",
            "Training status: Training\n",
            "Training status: Training\n",
            "Training status: Training\n",
            "Training status: Training\n",
            "Training status: Training\n",
            "Training status: Training\n",
            "Training status: Training\n",
            "Training status: Training\n",
            "Training status: Training\n",
            "Training status: Training\n",
            "Training status: Training\n",
            "Training status: Training\n",
            "Training status: Training\n",
            "Training status: Training\n",
            "Training status: Training\n",
            "Training status: Training\n",
            "Training status: Training\n",
            "Training status: Training\n",
            "Training status: Training\n",
            "Training status: Training\n",
            "Training status: Training\n",
            "Training status: Training\n",
            "Training status: Training\n",
            "Training status: Training\n",
            "Training status: Training\n",
            "Training status: Training\n",
            "Training status: Training\n",
            "Training status: Training\n",
            "Training status: Training\n",
            "Training status: Training\n",
            "Training status: Training\n",
            "Training status: Training\n",
            "Training status: Training\n",
            "Training status: Training\n",
            "Training status: Training\n",
            "Training status: Training\n",
            "Training status: Completed\n",
            "Done.....\n"
          ]
        }
      ]
    },
    {
      "cell_type": "code",
      "source": [
        "# 예측 작업\n",
        "from azure.cognitiveservices.vision.customvision.prediction import CustomVisionPredictionClient"
      ],
      "metadata": {
        "id": "pG9Rrp-9CUHD"
      },
      "execution_count": 35,
      "outputs": []
    },
    {
      "cell_type": "code",
      "source": [
        "predictEndpoint = 'https://labuser3customvision-prediction.cognitiveservices.azure.com/'\n",
        "predict_key = '1e8a1e1f357543a8bd324a142de6800e'"
      ],
      "metadata": {
        "id": "BljFFW5lVwjF"
      },
      "execution_count": 36,
      "outputs": []
    },
    {
      "cell_type": "code",
      "source": [
        "credentials = ApiKeyCredentials(in_headers={\"Prediction-key\": predict_key})\n",
        "predictor = CustomVisionPredictionClient(predictEndpoint,credentials)"
      ],
      "metadata": {
        "id": "_qJc5XFIX3uL"
      },
      "execution_count": 40,
      "outputs": []
    },
    {
      "cell_type": "code",
      "source": [
        "target_image_url = 'https://www.koreanbapsang.com/wp-content/uploads/2011/05/DSC1677.jpg'\n",
        "results = predictor.classify_image_url(project.id, 'Iteration1', target_image_url)"
      ],
      "metadata": {
        "id": "3z-7ex22YKK8"
      },
      "execution_count": 50,
      "outputs": []
    },
    {
      "cell_type": "code",
      "source": [
        "for prediction in results.predictions:\n",
        "  print('/t' + prediction.tag_name + \" {0:.2f}%\".format(prediction.probability * 100))"
      ],
      "metadata": {
        "colab": {
          "base_uri": "https://localhost:8080/"
        },
        "id": "DplWKYkRYkl0",
        "outputId": "b32fe548-f90f-406c-a843-997e3fdc7695"
      },
      "execution_count": 54,
      "outputs": [
        {
          "output_type": "stream",
          "name": "stdout",
          "text": [
            "/tjjajangmyeon 98.66%\n",
            "/tjjamppong 0.20%\n",
            "/ttangsuyug 0.13%\n"
          ]
        }
      ]
    },
    {
      "cell_type": "code",
      "source": [
        "cd example"
      ],
      "metadata": {
        "colab": {
          "base_uri": "https://localhost:8080/"
        },
        "id": "L667xi0AZiLE",
        "outputId": "a2387a76-8c8b-4a04-d800-8ff48badfe15"
      },
      "execution_count": 2,
      "outputs": [
        {
          "output_type": "stream",
          "name": "stdout",
          "text": [
            "[Errno 2] No such file or directory: 'example'\n",
            "/content\n"
          ]
        }
      ]
    },
    {
      "cell_type": "code",
      "source": [],
      "metadata": {
        "id": "4NtQpgQFItVA"
      },
      "execution_count": null,
      "outputs": []
    }
  ]
}